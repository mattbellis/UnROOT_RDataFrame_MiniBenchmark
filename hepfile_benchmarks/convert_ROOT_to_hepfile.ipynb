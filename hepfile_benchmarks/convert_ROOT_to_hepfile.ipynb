{
 "cells": [
  {
   "cell_type": "code",
   "execution_count": null,
   "id": "d6a33b55",
   "metadata": {},
   "outputs": [],
   "source": [
    "import numpy as np\n",
    "import awkward as ak\n",
    "import uproot\n",
    "\n",
    "import matplotlib.pylab as plt\n",
    "\n",
    "import hepfile\n",
    "\n",
    "import time\n",
    "\n",
    "import vector\n",
    "vector.register_awkward()\n"
   ]
  },
  {
   "cell_type": "code",
   "execution_count": null,
   "id": "4ce939c3",
   "metadata": {},
   "outputs": [],
   "source": [
    "f = uproot.open('../../Downloads/Run2012BC_DoubleMuParked_Muons.root')"
   ]
  },
  {
   "cell_type": "code",
   "execution_count": null,
   "id": "dc7c6300",
   "metadata": {},
   "outputs": [],
   "source": [
    "f.keys()"
   ]
  },
  {
   "cell_type": "code",
   "execution_count": null,
   "id": "a150dcb2",
   "metadata": {},
   "outputs": [],
   "source": [
    "f['Events'].keys()"
   ]
  },
  {
   "cell_type": "code",
   "execution_count": null,
   "id": "3bd49388",
   "metadata": {},
   "outputs": [],
   "source": [
    "start = time.time()\n",
    "\n",
    "ak_arrays = {}\n",
    "ak_arrays['pt'] = f['Events']['Muon_pt'].array()\n",
    "ak_arrays['eta'] = f['Events']['Muon_eta'].array()\n",
    "ak_arrays['phi'] = f['Events']['Muon_phi'].array()\n",
    "ak_arrays['mass'] = f['Events']['Muon_mass'].array()\n",
    "ak_arrays['charge'] = f['Events']['Muon_charge'].array()\n",
    "\n",
    "print(f\"Time to extract data from ROOT file: {time.time()-start} seconds\")\n",
    "\n",
    "\n",
    "start = time.time()\n",
    "\n",
    "data = hepfile.initialize()\n",
    "\n",
    "hepfile.awkward_tools.pack_multiple_awkward_arrays(data, ak_arrays, group_name='Muon')\n",
    "\n",
    "print(f\"Time to write data to the data dict: {time.time()-start} seconds\")\n"
   ]
  },
  {
   "cell_type": "code",
   "execution_count": null,
   "id": "a02d3a0c",
   "metadata": {},
   "outputs": [],
   "source": [
    "#data"
   ]
  },
  {
   "cell_type": "code",
   "execution_count": null,
   "id": "08ca0243",
   "metadata": {},
   "outputs": [],
   "source": [
    "start = time.time()\n",
    "\n",
    "hepfile.write_to_file('Run2012BC_DoubleMuParked_Muons.h5', data, verbose=False)\n",
    "\n",
    "print(f\"Time to write data to the uncompressed file: {time.time()-start} seconds\")\n",
    "\n",
    "\n",
    "start = time.time()\n",
    "\n",
    "hepfile.write_to_file('Run2012BC_DoubleMuParked_Muons_COMPRESSED.h5', data, \\\n",
    "                      verbose=False, comp_type='gzip',comp_opts=9)\n",
    "\n",
    "print(f\"Time to write data to the compressed file: {time.time()-start} seconds\")\n"
   ]
  },
  {
   "cell_type": "code",
   "execution_count": null,
   "id": "cffd5d03",
   "metadata": {},
   "outputs": [],
   "source": [
    "!ls -ltr Run2012BC_DoubleMuParked_Muons.h5\n",
    "!ls -ltr Run2012BC_DoubleMuParked_Muons_COMPRESSED.h5\n",
    "\n",
    "!ls -ltr ../../Downloads/Run2012BC_DoubleMuParked_Muons.root"
   ]
  },
  {
   "cell_type": "code",
   "execution_count": null,
   "id": "c04fe0f6",
   "metadata": {},
   "outputs": [],
   "source": [
    "start = time.time()\n",
    "\n",
    "data, _ = hepfile.load('Run2012BC_DoubleMuParked_Muons.h5')\n",
    "\n",
    "start1 = time.time()\n",
    "\n",
    "dataAwk = hepfile.awkward_tools.hepfile_to_awkward(data)\n",
    "\n",
    "print(f\"Time to read data into the data dictionary: {start1-start} seconds\")\n",
    "print(f\"Time to convert data dictionary to awk: {time.time()-start1} seconds\")\n"
   ]
  },
  {
   "cell_type": "code",
   "execution_count": null,
   "id": "9a657667",
   "metadata": {},
   "outputs": [],
   "source": [
    "mask = ak.num(dataAwk.Muon.pt)==4\n",
    "\n",
    "print(mask[0:10])\n",
    "\n",
    "print(len(mask))\n"
   ]
  },
  {
   "cell_type": "code",
   "execution_count": null,
   "id": "0fa4ec48",
   "metadata": {},
   "outputs": [],
   "source": [
    "mask_muons = (dataAwk.Muon.pt>5) & (np.abs(dataAwk.Muon.eta)<2.4)\n",
    "\n",
    "print(mask_muons[0:10])\n",
    "\n",
    "print(len(mask_muons))"
   ]
  },
  {
   "cell_type": "code",
   "execution_count": null,
   "id": "7dfa2f12",
   "metadata": {},
   "outputs": [],
   "source": [
    "#print(len(dataAwk[mask].Muon))\n",
    "\n",
    "start = time.time()\n",
    "muons = dataAwk.Muon[mask_muons]\n",
    "muons = muons[mask]\n",
    "print(f\"Time to do something: {time.time()-start}\")\n",
    "\n",
    "\n",
    "start = time.time()\n",
    "muons = dataAwk[mask].Muon[mask_muons[mask]]\n",
    "print(f\"Time to do something: {time.time()-start}\")\n"
   ]
  },
  {
   "cell_type": "code",
   "execution_count": null,
   "id": "0ac07f20",
   "metadata": {},
   "outputs": [],
   "source": [
    "start = time.time()\n",
    "muons = ak.zip({\n",
    "    \"pt\": muons[\"pt\"],\n",
    "    \"phi\": muons[\"phi\"],\n",
    "    \"eta\": muons[\"eta\"],\n",
    "    \"mass\": muons[\"mass\"],\n",
    "    \"charge\": muons[\"charge\"],\n",
    "}, with_name=\"Momentum4D\")\n",
    "print(f\"Time to do something: {time.time()-start}\")\n",
    "\n",
    "print(type(muons))\n",
    "\n",
    "start = time.time()\n",
    "quads = ak.combinations(muons, 4)\n",
    "print(f\"Time to do something: {time.time()-start}\")\n",
    "\n",
    "print(type(quads))\n",
    "\n",
    "\n",
    "start = time.time()\n",
    "mu1, mu2, mu3, mu4 = ak.unzip(quads)\n",
    "print(f\"Time to do something: {time.time()-start}\")\n",
    "\n",
    "start = time.time()\n",
    "p4 = mu1 + mu2 + mu3 + mu4\n",
    "print(f\"Time to do something: {time.time()-start}\")\n",
    "\n"
   ]
  },
  {
   "cell_type": "code",
   "execution_count": null,
   "id": "1d3c6b5d",
   "metadata": {},
   "outputs": [],
   "source": [
    "#doubles = ak.combinations(quads,2)\n",
    "#zmu1,zmu2 = ak.unzip(doubles)\n",
    "\n",
    "#zp4 = zmu1 + zmu2\n",
    "\n",
    "#zcharge = zmu1.charge + zmu2.charge"
   ]
  },
  {
   "cell_type": "code",
   "execution_count": null,
   "id": "a2e5460f",
   "metadata": {},
   "outputs": [],
   "source": []
  },
  {
   "cell_type": "code",
   "execution_count": null,
   "id": "9728f6f8",
   "metadata": {},
   "outputs": [],
   "source": [
    "start = time.time()\n",
    "tot_charge = mu1.charge + mu2.charge + mu3.charge + mu4.charge\n",
    "print(f\"Time to do something: {time.time()-start}\")\n",
    "\n",
    "start = time.time()\n",
    "charge_mask = tot_charge==0\n",
    "print(f\"Time to do something: {time.time()-start}\")\n",
    "\n",
    "DR_CUT = 0.02\n",
    "start = time.time()\n",
    "mask_dr = (mu1.deltaR(mu2)>DR_CUT) & \\\n",
    "          (mu1.deltaR(mu3)>DR_CUT) & \\\n",
    "          (mu1.deltaR(mu4)>DR_CUT) & \\\n",
    "          (mu2.deltaR(mu3)>DR_CUT) & \\\n",
    "          (mu2.deltaR(mu4)>DR_CUT) & \\\n",
    "          (mu3.deltaR(mu4)>DR_CUT)\n",
    "\n",
    "print(f\"Time to do something: {time.time()-start}\")"
   ]
  },
  {
   "cell_type": "code",
   "execution_count": null,
   "id": "ba499846",
   "metadata": {},
   "outputs": [],
   "source": [
    "#mu1.deltaR(mu2)\n",
    "#mask_dr = (mu1.deltaR(mu1)<0.02) & (mu1.deltaR(mu3)<0.02)\n",
    "mask_dr"
   ]
  },
  {
   "cell_type": "code",
   "execution_count": null,
   "id": "7b412886",
   "metadata": {},
   "outputs": [],
   "source": [
    "plt.figure()\n",
    "plt.hist(ak.flatten(p4[charge_mask & mask_dr].mass), bins=36,range=(70,180));"
   ]
  },
  {
   "cell_type": "code",
   "execution_count": null,
   "id": "97434c7e",
   "metadata": {},
   "outputs": [],
   "source": [
    "plt.figure()\n",
    "plt.hist(ak.flatten(p4[charge_mask].mass), bins=100,range=(0,200));"
   ]
  },
  {
   "cell_type": "code",
   "execution_count": null,
   "id": "2e4121e8",
   "metadata": {},
   "outputs": [],
   "source": [
    "start = time.time()\n",
    "z12 = mu1 + mu2\n",
    "z34 = mu3 + mu4\n",
    "\n",
    "q12 = mu1.charge + mu2.charge\n",
    "q34 = mu3.charge + mu4.charge\n",
    "print(f\"Time to do something: {time.time()-start}\")\n",
    "\n",
    "start = time.time()\n",
    "z13 = mu1 + mu3\n",
    "z24 = mu2 + mu4\n",
    "\n",
    "q13 = mu1.charge + mu3.charge\n",
    "q24 = mu2.charge + mu4.charge\n",
    "print(f\"Time to do something: {time.time()-start}\")\n",
    "\n",
    "start = time.time()\n",
    "z14 = mu1 + mu4\n",
    "z23 = mu2 + mu3\n",
    "\n",
    "q14 = mu1.charge + mu4.charge\n",
    "q23 = mu2.charge + mu3.charge\n",
    "print(f\"Time to do something: {time.time()-start}\")\n",
    "\n",
    "start = time.time()\n",
    "p4 = mu1 + mu2 + mu3 + mu4\n",
    "print(f\"Time to do something: {time.time()-start}\")\n",
    "\n",
    "\n",
    "print(len(z12), len(z34), len(p4))"
   ]
  },
  {
   "cell_type": "code",
   "execution_count": null,
   "id": "0667b7ef",
   "metadata": {},
   "outputs": [],
   "source": [
    "DR_CUT = 0.02\n",
    "start = time.time()\n",
    "'''\n",
    "mask_dr = (mu1.deltaR(mu2)>DR_CUT) & \\\n",
    "          (mu1.deltaR(mu3)>DR_CUT) & \\\n",
    "          (mu1.deltaR(mu4)>DR_CUT) & \\\n",
    "          (mu2.deltaR(mu3)>DR_CUT) & \\\n",
    "          (mu2.deltaR(mu4)>DR_CUT) & \\\n",
    "          (mu3.deltaR(mu4)>DR_CUT)\n",
    "'''\n",
    "\n",
    "mask = (q12==0) & (q34==0) & (mu1.deltaR(mu2)>DR_CUT) & (mu3.deltaR(mu4)>DR_CUT)\n",
    "masses = ak.flatten(z12.mass[mask]).tolist() + ak.flatten(z34.mass[mask]).tolist() \n",
    "\n",
    "mask = (q13==0) & (q24==0) & (mu1.deltaR(mu3)>DR_CUT) & (mu2.deltaR(mu4)>DR_CUT)\n",
    "masses += ak.flatten(z13.mass[mask]).tolist() + ak.flatten(z24.mass[mask]).tolist() \n",
    "\n",
    "mask = (q14==0) & (q23==0) & (mu1.deltaR(mu4)>DR_CUT) & (mu2.deltaR(mu3)>DR_CUT)\n",
    "masses += ak.flatten(z14.mass[mask]).tolist() + ak.flatten(z23.mass[mask]).tolist() \n",
    "print(f\"Time to do something: {time.time()-start}\")\n",
    "\n",
    "\n",
    "plt.hist(masses,bins=100, range=(0,200));"
   ]
  },
  {
   "cell_type": "code",
   "execution_count": null,
   "id": "8e5d9343",
   "metadata": {},
   "outputs": [],
   "source": [
    "LOCUT = 40\n",
    "HICUT = 120\n",
    "\n",
    "start = time.time()\n",
    "mask1 = (q12==0) & (q34==0) & (mu1.deltaR(mu2)>DR_CUT) & (mu3.deltaR(mu4)>DR_CUT) & \\\n",
    "         (z12.mass>LOCUT) & (z12.mass<HICUT) &  (z34.mass>LOCUT) & (z34.mass<HICUT)\n",
    "\n",
    "\n",
    "mask2 = (q13==0) & (q24==0) & (mu1.deltaR(mu3)>DR_CUT) & (mu2.deltaR(mu4)>DR_CUT) & \\\n",
    "         (z13.mass>LOCUT) & (z13.mass<HICUT) &  (z24.mass>LOCUT) & (z24.mass<HICUT)\n",
    "\n",
    "\n",
    "mask3 = (q14==0) & (q23==0) & (mu1.deltaR(mu4)>DR_CUT) & (mu2.deltaR(mu3)>DR_CUT) & \\\n",
    "         (z14.mass>LOCUT) & (z14.mass<HICUT) &  (z23.mass>LOCUT) & (z23.mass<HICUT)\n",
    "\n",
    "\n",
    "print(f\"Time to do something: {time.time()-start}\")\n",
    "\n",
    "plt.hist(ak.flatten(p4.mass[mask1 | mask2 | mask3]), bins=36, range=(70,180));\n"
   ]
  },
  {
   "cell_type": "code",
   "execution_count": null,
   "id": "beb99901",
   "metadata": {},
   "outputs": [],
   "source": [
    "plt.hist(masses,bins=36, range=(70,180));"
   ]
  },
  {
   "cell_type": "code",
   "execution_count": null,
   "id": "a34db6b5",
   "metadata": {},
   "outputs": [],
   "source": [
    "plt.hist(ak.flatten(mu1.pt),bins=100, range=(0,100));"
   ]
  },
  {
   "cell_type": "code",
   "execution_count": null,
   "id": "54f67224",
   "metadata": {},
   "outputs": [],
   "source": [
    "plt.hist(ak.flatten(mu1.eta),bins=100, range=(-5,5));"
   ]
  },
  {
   "cell_type": "code",
   "execution_count": null,
   "id": "4e1b1c82",
   "metadata": {},
   "outputs": [],
   "source": []
  }
 ],
 "metadata": {
  "kernelspec": {
   "display_name": "Python 3 (ipykernel)",
   "language": "python",
   "name": "python3"
  },
  "language_info": {
   "codemirror_mode": {
    "name": "ipython",
    "version": 3
   },
   "file_extension": ".py",
   "mimetype": "text/x-python",
   "name": "python",
   "nbconvert_exporter": "python",
   "pygments_lexer": "ipython3",
   "version": "3.10.6"
  }
 },
 "nbformat": 4,
 "nbformat_minor": 5
}
